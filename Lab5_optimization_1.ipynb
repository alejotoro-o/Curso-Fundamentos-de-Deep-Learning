{
 "cells": [
  {
   "cell_type": "markdown",
   "metadata": {},
   "source": [
    "# **Optimización de Modelos Parte 1**\n",
    "\n",
    "En este cuaderno (Laboratorio 5) vamos a explorar algunos de los principales conceptos vistos hasta ahora para la optimización de modelos de Deep Learning [Deep Learning y Redes Neuronales](https://).\n",
    "\n",
    "## **Objetivos**\n",
    "\n",
    "* Realizar un proceso de validacion cruzada para analizar el desempeño de un modelo neuronal.\n",
    "* Implementar las tecnicas de regularizacion L2 y Dropout para la optimizacion de un modelo que sufre de sobreajuste.\n",
    "* Implementar gradiente descendente por lotes.\n",
    "* Implementar normailización de entradas y activaciones.\n",
    "* Aprender a utilizar el algoritmo de optimizacion ADAM.\n",
    "* Implementar decaimiento en la tasa de aprendizaje.\n",
    "\n",
    "Para comenzar importaremos algunas liberias utilizadas para la implementación del modelo."
   ]
  },
  {
   "cell_type": "code",
   "execution_count": null,
   "metadata": {},
   "outputs": [],
   "source": [
    "import matplotlib.pyplot as plt\n",
    "import numpy as np\n",
    "\n",
    "from sklearn import datasets\n",
    "from sklearn.preprocessing import MinMaxScaler\n",
    "\n",
    "from keras.models import Model\n",
    "from keras.layers import Input, Dense, Dropout\n",
    "from keras.optimizers import Adam\n",
    "from tensorflow.keras import datasets as tfds"
   ]
  },
  {
   "cell_type": "markdown",
   "metadata": {},
   "source": [
    "Cargamos los datos que utilizaremos en este laboratiorio."
   ]
  }
 ],
 "metadata": {
  "language_info": {
   "name": "python"
  },
  "orig_nbformat": 4
 },
 "nbformat": 4,
 "nbformat_minor": 2
}
