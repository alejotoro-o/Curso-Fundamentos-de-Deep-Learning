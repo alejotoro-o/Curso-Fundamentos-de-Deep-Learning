{
 "cells": [
  {
   "cell_type": "markdown",
   "metadata": {},
   "source": [
    "# **Optimización de Modelos Parte 2**\n",
    "\n",
    "En este cuaderno (Laboratorio 6) vamos a extender la exploracion en los conceptos de optimización de modelos de Deep Learning [Deep Learning y Redes Neuronales](https://).\n",
    "\n",
    "## **Objetivos**\n",
    "\n",
    "* Implementar optimización de hiperparametros por medio de una busqueda de cuadricula.\n",
    "* Implementar la optimización de hiperparamietros por medio de una busqueda aleatoria.\n",
    "* Aprender a evaluar redes neuronales utilizando la diferentes metricas de evaluación.\n",
    "* Aprender como utilizar las funciones de Tensorboard.\n",
    "\n",
    "Para comenzar importaremos algunas liberias utilizadas para la implementación del modelo."
   ]
  },
  {
   "cell_type": "code",
   "execution_count": null,
   "metadata": {},
   "outputs": [],
   "source": [
    "import matplotlib.pyplot as plt\n",
    "import numpy as np\n",
    "\n",
    "from sklearn import datasets\n",
    "from sklearn.preprocessing import MinMaxScaler\n",
    "\n",
    "from keras.models import Model\n",
    "from keras.layers import Input, Dense\n",
    "from keras.optimizers import Adam\n",
    "from tensorflow.keras import datasets as tfds"
   ]
  },
  {
   "cell_type": "markdown",
   "metadata": {},
   "source": [
    "Cargamos los datos que utilizaremos en este laboratiorio."
   ]
  }
 ],
 "metadata": {
  "language_info": {
   "name": "python"
  },
  "orig_nbformat": 4
 },
 "nbformat": 4,
 "nbformat_minor": 2
}
