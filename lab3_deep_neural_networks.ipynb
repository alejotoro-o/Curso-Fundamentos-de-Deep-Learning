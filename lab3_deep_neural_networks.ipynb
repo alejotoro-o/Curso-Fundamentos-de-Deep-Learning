{
 "cells": [
  {
   "cell_type": "markdown",
   "metadata": {},
   "source": [
    "# Redes Neuronales Profundas\n",
    "\n",
    "En este cuaderno (Laboratorio 3) vamos a explorar la estructura e implementacion de redes neuronales profundas, como se ha visto en las lecciones del curso [Deep Learning y Redes Neuronales](https://).\n",
    "\n",
    "## **Objetivos**\n",
    "\n",
    "* Implementar una red neuronal profunda utilizando python y numpy.\n",
    "* Entrenar el modelo para el dataset de cancer seno.\n",
    "\n",
    "Para comenzar importaremos las librerias, en este caso utilizaremos sklearn para cargar el dataset y ademas de esto para realizar la division entre datos de entrenamiento y prueba."
   ]
  },
  {
   "cell_type": "code",
   "execution_count": 1145,
   "metadata": {},
   "outputs": [],
   "source": [
    "import numpy as np\n",
    "import matplotlib.pyplot as plt\n",
    "\n",
    "from sklearn import datasets\n",
    "from sklearn.model_selection import train_test_split\n",
    "from sklearn.metrics import accuracy_score"
   ]
  },
  {
   "cell_type": "markdown",
   "metadata": {},
   "source": [
    "Ahora vamos a cargar el dataset de cancer de seno y vamos a explorar sus dimensiones, caracteristicas de entrada y etiquetas de salida."
   ]
  },
  {
   "cell_type": "code",
   "execution_count": 1146,
   "metadata": {},
   "outputs": [
    {
     "name": "stdout",
     "output_type": "stream",
     "text": [
      "El tamaño de X es: (569, 30)\n",
      "El tamaño de Y es: (569,)\n",
      "\n",
      "\n",
      "Caracteristicas de entrada: ['mean radius' 'mean texture' 'mean perimeter' 'mean area'\n",
      " 'mean smoothness' 'mean compactness' 'mean concavity'\n",
      " 'mean concave points' 'mean symmetry' 'mean fractal dimension'\n",
      " 'radius error' 'texture error' 'perimeter error' 'area error'\n",
      " 'smoothness error' 'compactness error' 'concavity error'\n",
      " 'concave points error' 'symmetry error' 'fractal dimension error'\n",
      " 'worst radius' 'worst texture' 'worst perimeter' 'worst area'\n",
      " 'worst smoothness' 'worst compactness' 'worst concavity'\n",
      " 'worst concave points' 'worst symmetry' 'worst fractal dimension']\n",
      "\n",
      "\n",
      "Etiquetas: ['malignant' 'benign']\n"
     ]
    }
   ],
   "source": [
    "data = datasets.load_breast_cancer()\n",
    "\n",
    "X = data.data\n",
    "Y = data.target\n",
    "n_x = X.shape[1]\n",
    "\n",
    "print(\"El tamaño de X es: \" + str(X.shape)) # Tamaño de las variables de entrada\n",
    "print(\"El tamaño de Y es: \" + str(Y.shape)) # Tamañano de las etiquetas\n",
    "print(\"\\n\")\n",
    "print(\"Caracteristicas de entrada: \" + str(data.feature_names))\n",
    "print(\"\\n\")\n",
    "print(\"Etiquetas: \" + str(data.target_names))"
   ]
  },
  {
   "cell_type": "markdown",
   "metadata": {},
   "source": [
    "Luego dividimos los datos en datos de entrenamiento y prueba."
   ]
  },
  {
   "cell_type": "code",
   "execution_count": 1147,
   "metadata": {},
   "outputs": [
    {
     "name": "stdout",
     "output_type": "stream",
     "text": [
      "Tamaño de X_train: (455, 30)\n",
      "Tamaño de Y_train: (455,)\n",
      "Tamaño de X_test: (114, 30)\n",
      "Tamaño de Y_test: (114,)\n"
     ]
    }
   ],
   "source": [
    "X_train, X_test, Y_train, Y_test = train_test_split(X,Y,test_size=0.2)\n",
    "\n",
    "print (\"Tamaño de X_train: \" + str(X_train.shape))\n",
    "print (\"Tamaño de Y_train: \" + str(Y_train.shape))\n",
    "print (\"Tamaño de X_test: \" + str(X_test.shape))\n",
    "print (\"Tamaño de Y_test: \" + str(Y_test.shape))"
   ]
  },
  {
   "cell_type": "markdown",
   "metadata": {},
   "source": [
    "Para cumplir las dimensiones definidas en nuestras ecuaciones, vamos a trasponer las entradas y a convertir el vector de salida en un vector fila."
   ]
  },
  {
   "cell_type": "code",
   "execution_count": 1148,
   "metadata": {},
   "outputs": [
    {
     "name": "stdout",
     "output_type": "stream",
     "text": [
      "Tamaño de X_train: (30, 455)\n",
      "Tamaño de Y_train: (1, 455)\n",
      "Tamaño de X_test: (30, 114)\n",
      "Tamaño de Y_test: (1, 114)\n"
     ]
    }
   ],
   "source": [
    "X_train, X_test, Y_train, Y_test = X_train.T, X_test.T, Y_train.reshape((1,-1)), Y_test.reshape((1,-1))\n",
    "\n",
    "print (\"Tamaño de X_train: \" + str(X_train.shape))\n",
    "print (\"Tamaño de Y_train: \" + str(Y_train.shape))\n",
    "print (\"Tamaño de X_test: \" + str(X_test.shape))\n",
    "print (\"Tamaño de Y_test: \" + str(Y_test.shape))"
   ]
  },
  {
   "cell_type": "markdown",
   "metadata": {},
   "source": [
    "Ya teniendo nuestros datos vamos a definir nuestro modelo de red neuronal profunda, antes de programar el codigo, es conveniente que repasemos rapidamente las dimensiones de los diferentes elementos y las ecuaciones principales del modelo.\n",
    "\n",
    "**Forward Propagation**\n",
    "\n",
    "X = A^{[0]}\n",
    "\n",
    "$Z^{[l]} = W^{[l]}A^{[l-1]} + b^{[l]}$\n",
    "\n",
    "$A^{[l]} = relu(Z^{[l]})$\n",
    "\n",
    "Para la capa de salida utilizamos la función de activación sigmoidal:\n",
    "\n",
    "$A^{[L]} = \\hat{Y} = \\sigma(Z^{[L]}) = \\frac{1}{1 + e^{-Z^{[L]}}}$\n",
    "\n",
    "**Backpropagation**\n",
    "\n",
    "Recordemos la función de costo:\n",
    "\n",
    "$L(a, y) = -(y\\log{(a)} + (1 - y)\\log{(1 - a)})$\n",
    "\n",
    "$J(W, b) = \\frac{1}{m} \\sum_{i=1}^m L(a^{}, y^{})$\n",
    "\n",
    "Ahora los gradientes para los pesos y biases son:\n",
    "\n",
    "$\\frac{\\partial L}{\\partial Z^{[L]}} = dZ^{[L]} = A^{[L]} - Y$\n",
    "\n",
    "$\\frac{\\partial L}{\\partial Z^{[l]}} = dZ^{[l]} = W^{[l]T}dZ^{[l]}*g^{\\prime}(Z^{[l]})$\n",
    "\n",
    "$\\frac{\\partial J}{\\partial W^{[l]}} = \\frac{1}{m} dZ^{[l]}A^{[l-1]T}$\n",
    "\n",
    "$\\frac{\\partial J}{\\partial b^{[l]}} = \\frac{1}{m} \\sum_{i=1}^m dZ_{ji}^{[l]}$\n",
    "\n",
    "**Gradiente Descendente**\n",
    "\n",
    "$W^{[l]} = W^{[l]} - \\alpha \\frac{\\partial J}{\\partial W^{[l]}}$\n",
    "\n",
    "$b^{[l]} = b^{[l]} - \\alpha \\frac{\\partial J}{\\partial b^{[l]}}$\n",
    "\n",
    "**Dimensiones de los diferentes elementos**\n",
    "\n",
    "* X es ($n_x$, m)\n",
    "* Y es (1, m)\n",
    "* $W^{[l]}$ es ($n^{[l]}$, $n^{[l-1]}$)\n",
    "* $b^{[l]}$ es ($n^{[l]}$, 1)\n",
    "* $Z^{[l]}$ y $A^{[1]}$ son ($n^{[l]}$, m)"
   ]
  },
  {
   "cell_type": "code",
   "execution_count": 1149,
   "metadata": {},
   "outputs": [],
   "source": [
    "class DeepNeuralNetwork:\n",
    "    \n",
    "    # Constructor de la clase\n",
    "    def __init__(self, input_dim, hidden_layers=[2]):\n",
    "        self.layer_dims = [input_dim] + hidden_layers + [1]\n",
    "        self.initialize_weights()\n",
    "\n",
    "    # Inicializar pesos\n",
    "    def initialize_weights(self):\n",
    "    \n",
    "        self.weights = [dict() for i in range(len(self.layer_dims) - 1)]\n",
    "        for i in range(len(self.layer_dims) - 1):\n",
    "            self.weights[i][\"W\"] = np.random.randn(self.layer_dims[i + 1], self.layer_dims[i])*0.01\n",
    "            self.weights[i][\"b\"] = np.zeros((self.layer_dims[i + 1], 1))   \n",
    "\n",
    "    # Forward Propagation\n",
    "    def forward_propagation(self, X):\n",
    "\n",
    "        cache = [dict() for i in range(len(self.layer_dims) - 1)]\n",
    "\n",
    "        Z = 0  \n",
    "        A = X\n",
    "\n",
    "        for i in range(len(self.layer_dims) - 2):\n",
    "\n",
    "            cache[i][\"A\"] = A\n",
    "            cache[i][\"Z\"] = Z\n",
    "\n",
    "            Z = np.dot(self.weights[i][\"W\"], A) + self.weights[i][\"b\"]\n",
    "            A = np.maximum(Z,0) # ReLu Activation\n",
    "\n",
    "        cache[-1][\"A\"] = A\n",
    "        cache[-1][\"Z\"] = Z\n",
    "\n",
    "        Z = np.dot(self.weights[-1][\"W\"], A) + self.weights[-1][\"b\"]\n",
    "        Y_hat = 1/(1 + np.exp(-Z)) \n",
    "\n",
    "        return Y_hat, cache\n",
    "\n",
    "    # Propagacion hacia atras para encontrar los gradientes\n",
    "    def backpropagation(self, m, error, cache):\n",
    "\n",
    "        grads = [dict() for i in range(len(self.layer_dims) - 1)]\n",
    "\n",
    "        dZ = error\n",
    "\n",
    "        grads[-1][\"W\"] = (1./m)*np.dot(dZ, cache[-1][\"A\"].T)\n",
    "        grads[-1][\"b\"] = (1./m)*np.sum(dZ, axis=1, keepdims=True)\n",
    "\n",
    "        for i in reversed(range(1,len(self.layer_dims) - 1)):\n",
    "\n",
    "            dg = (cache[i][\"Z\"] > 0).astype(float) # ReLu Gradient\n",
    "            dZ = np.multiply(np.dot(self.weights[i][\"W\"].T, dZ), dg)\n",
    "\n",
    "            grads[i-1][\"W\"] = (1./m)*np.dot(dZ, cache[i-1][\"A\"].T)\n",
    "            grads[i-1][\"b\"] = (1./m)*np.sum(dZ, axis=1, keepdims=True)     \n",
    "\n",
    "        return grads\n",
    "    \n",
    "    # Actualizar los pesos utilizando gradiente descendente\n",
    "    def update_weights(self, grads, learning_rate):\n",
    "    \n",
    "        for i in range(len(self.layer_dims) - 1):\n",
    "            for param in self.weights[i].keys():\n",
    "        \n",
    "                self.weights[i][param] = self.weights[i][param] - learning_rate*grads[i][param]\n",
    "\n",
    "    # Entrenar el modelo\n",
    "    def fit(self, X, Y, iters = 1000, learning_rate = 0.01):\n",
    "        \n",
    "        m = X.shape[1]\n",
    "        cost = []\n",
    "\n",
    "        for t in range(iters):\n",
    "\n",
    "            Y_hat, cache = self.forward_propagation(X)\n",
    "\n",
    "            error = Y_hat - Y\n",
    "            cost.append(-(1./m)*(np.sum(Y*np.log(Y_hat) + (1 - Y)*np.log(1-Y_hat))))\n",
    "\n",
    "            grads = self.backpropagation(m, error, cache)\n",
    "\n",
    "            self.update_weights(grads, learning_rate)\n",
    "\n",
    "        return cost\n",
    "\n",
    "    # Funcion de prediccion\n",
    "    def predict(self, X):\n",
    "\n",
    "        Y_hat, _ = self.forward_propagation(X)\n",
    "\n",
    "        return np.round(Y_hat)"
   ]
  },
  {
   "cell_type": "markdown",
   "metadata": {},
   "source": [
    "Creamos el modelo."
   ]
  },
  {
   "cell_type": "code",
   "execution_count": 1150,
   "metadata": {},
   "outputs": [],
   "source": [
    "model = DeepNeuralNetwork(n_x, [4,4])"
   ]
  },
  {
   "cell_type": "markdown",
   "metadata": {},
   "source": [
    "Entrenamos el modelo."
   ]
  },
  {
   "cell_type": "code",
   "execution_count": 1151,
   "metadata": {},
   "outputs": [],
   "source": [
    "cost = model.fit(X_train, Y_train, iters=10000, learning_rate=0.005)"
   ]
  },
  {
   "cell_type": "code",
   "execution_count": 1152,
   "metadata": {},
   "outputs": [
    {
     "name": "stdout",
     "output_type": "stream",
     "text": [
      "Exactitud de entrenamiento = 0.9472527472527472\n",
      "Exactitud de prueba = 0.9035087719298246\n"
     ]
    },
    {
     "data": {
      "text/plain": [
       "[<matplotlib.lines.Line2D at 0x25e2d2ea8b0>]"
      ]
     },
     "execution_count": 1152,
     "metadata": {},
     "output_type": "execute_result"
    },
    {
     "data": {
      "image/png": "[encoded data removed]",
      "text/plain": [
       "<Figure size 432x288 with 1 Axes>"
      ]
     },
     "metadata": {
      "needs_background": "light"
     },
     "output_type": "display_data"
    }
   ],
   "source": [
    "train_predictions = model.predict(X_train)\n",
    "train_acc = accuracy_score(Y_train.reshape((-1,)), train_predictions.reshape((-1,)))\n",
    "\n",
    "test_predictions = model.predict(X_test)\n",
    "test_acc = accuracy_score(Y_test.reshape((-1,)), test_predictions.reshape((-1,)))\n",
    "\n",
    "print(\"Exactitud de entrenamiento = \" + str(train_acc))\n",
    "print(\"Exactitud de prueba = \" + str(test_acc))\n",
    "\n",
    "plt.plot(cost)"
   ]
  }
 ],
 "metadata": {
  "kernelspec": {
   "display_name": "Python 3",
   "language": "python",
   "name": "python3"
  },
  "language_info": {
   "codemirror_mode": {
    "name": "ipython",
    "version": 3
   },
   "file_extension": ".py",
   "mimetype": "text/x-python",
   "name": "python",
   "nbconvert_exporter": "python",
   "pygments_lexer": "ipython3",
   "version": "3.9.13"
  }
 },
 "nbformat": 4,
 "nbformat_minor": 2
}
